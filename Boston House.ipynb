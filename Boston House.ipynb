{
 "cells": [
  {
   "cell_type": "markdown",
   "metadata": {},
   "source": [
    "Ev Fiyatlarını Tahmin Etme: Regresyon/Sayısal Tahmin\n"
   ]
  },
  {
   "cell_type": "code",
   "execution_count": 1,
   "metadata": {},
   "outputs": [
    {
     "name": "stderr",
     "output_type": "stream",
     "text": [
      "C:\\ProgramData\\Anaconda3\\envs\\py35\\lib\\site-packages\\h5py\\__init__.py:36: FutureWarning: Conversion of the second argument of issubdtype from `float` to `np.floating` is deprecated. In future, it will be treated as `np.float64 == np.dtype(float).type`.\n",
      "  from ._conv import register_converters as _register_converters\n",
      "Using TensorFlow backend.\n"
     ]
    }
   ],
   "source": [
    "from keras.datasets import boston_housing"
   ]
  },
  {
   "cell_type": "code",
   "execution_count": 2,
   "metadata": {},
   "outputs": [
    {
     "name": "stdout",
     "output_type": "stream",
     "text": [
      "Downloading data from https://s3.amazonaws.com/keras-datasets/boston_housing.npz\n",
      "57344/57026 [==============================] - 0s 3us/step\n"
     ]
    }
   ],
   "source": [
    "(train_data, train_labels), (test_data, test_labels) =boston_housing.load_data()"
   ]
  },
  {
   "cell_type": "code",
   "execution_count": 3,
   "metadata": {},
   "outputs": [
    {
     "data": {
      "text/plain": [
       "(404, 13)"
      ]
     },
     "execution_count": 3,
     "metadata": {},
     "output_type": "execute_result"
    }
   ],
   "source": [
    "train_data.shape"
   ]
  },
  {
   "cell_type": "code",
   "execution_count": 4,
   "metadata": {},
   "outputs": [
    {
     "data": {
      "text/plain": [
       "(102, 13)"
      ]
     },
     "execution_count": 4,
     "metadata": {},
     "output_type": "execute_result"
    }
   ],
   "source": [
    "test_data.shape"
   ]
  },
  {
   "cell_type": "code",
   "execution_count": 7,
   "metadata": {},
   "outputs": [
    {
     "data": {
      "text/plain": [
       "15.6"
      ]
     },
     "execution_count": 7,
     "metadata": {},
     "output_type": "execute_result"
    }
   ],
   "source": [
    "train_labels[45]"
   ]
  },
  {
   "cell_type": "code",
   "execution_count": 8,
   "metadata": {},
   "outputs": [
    {
     "data": {
      "text/plain": [
       "13"
      ]
     },
     "execution_count": 8,
     "metadata": {},
     "output_type": "execute_result"
    }
   ],
   "source": [
    "train_data.shape[1]"
   ]
  },
  {
   "cell_type": "code",
   "execution_count": 17,
   "metadata": {},
   "outputs": [],
   "source": [
    "mean = train_data.mean(axis = 0) # train_data için ort hesapla\n",
    "train_data-=mean  # her değerden mean ı çıkar \n",
    "std = train_data.std(axis=0) #train_data için std hesapla\n",
    "train_data/=std # tüm değerleri std ye böl \n",
    "\n",
    "test_data -=mean # test_data yo her değerden çıkar\n",
    "test_data /= std # test_data yı std ye böl"
   ]
  },
  {
   "cell_type": "code",
   "execution_count": 29,
   "metadata": {},
   "outputs": [],
   "source": [
    "from keras import layers\n",
    "from keras import models\n",
    "# bir fonksiyon ile model oluşturma...\n",
    "def build_model():\n",
    "    model = models.Sequential()\n",
    "    model.add(layers.Dense(64, activation = 'relu' , input_shape=(train_data.shape[1],)))\n",
    "    model.add(layers.Dense(64, activation = 'relu'))\n",
    "    model.add(layers.Dense(1))\n",
    "    model.compile(optimizer = \"rmsprop\" ,loss='mse' , metrics=['mae'])\n",
    "    \n",
    "    return model\n",
    "\n",
    "#Son katmanda aktivasyon fonksiyonu kullanmıyoruz çünkü 1-0 gibi bir sınıf tahmini değil,\n",
    "#sürekli bir sayısal değer tahmini yapıyoruz\n",
    "\n",
    "#“mae”: sayısal tahmin hata ortalaması"
   ]
  },
  {
   "cell_type": "markdown",
   "metadata": {},
   "source": [
    "Veri seti küçük olduğu için train/validation/test bölümlemesi yerine, k-fold cross validation kullanacağız. k= 3,5,10 yaygın\n"
   ]
  },
  {
   "cell_type": "code",
   "execution_count": 30,
   "metadata": {},
   "outputs": [
    {
     "name": "stdout",
     "output_type": "stream",
     "text": [
      "processing fold #  0\n",
      "processing fold #  1\n",
      "processing fold #  2\n",
      "processing fold #  3\n"
     ]
    }
   ],
   "source": [
    "# K-FOLD cross validation bloğu...\n",
    "import numpy as np\n",
    "k= 4\n",
    "num_val_samples = len(train_data) //k\n",
    "num_epochs = 100\n",
    "all_scores =[]\n",
    "for i in range(k):\n",
    "    print('processing fold # ',i)\n",
    "    #k bölümden birini validation data kalanını train olarak seç\n",
    "    val_data = train_data[i * num_val_samples:(i+1)* num_val_samples]\n",
    "    val_labels = train_labels[i * num_val_samples:(i+1)* num_val_samples]\n",
    "    \n",
    "    # yukarıda yapılan seçim dışında kalan k bölümleri train data olarak kullan\n",
    "    partial_train_data = np.concatenate(\n",
    "        [train_data[:i*num_val_samples],\n",
    "        train_data[(i+1)*num_val_samples:]],\n",
    "        axis =0 )\n",
    "    \n",
    "    partial_train_labels = np.concatenate(\n",
    "        [train_labels[:i*num_val_samples],\n",
    "        train_labels[(i+1)*num_val_samples:]],\n",
    "        axis =0 )\n",
    "    \n",
    "    # yukarıda compile edilen modeli build et\n",
    "    model = build_model()\n",
    "    \n",
    "    #train/fit bölümü verbose 0 ise detaylar ekrana gelmeyecek 'gösterme 'demek\n",
    "    model.fit(partial_train_data,partial_train_labels,\n",
    "              epochs = num_epochs ,batch_size =1,verbose =0)\n",
    "    # fit edilen eğitilen bölümü validation bölümü ile test et \n",
    "    val_mse,val_mae = model.evaluate(val_data,val_labels,verbose=0)\n",
    "    all_scores.append(val_mae)\n",
    "    \n",
    "    \n"
   ]
  },
  {
   "cell_type": "code",
   "execution_count": 31,
   "metadata": {},
   "outputs": [
    {
     "data": {
      "text/plain": [
       "[2.2780409520215326, 2.227260986177048, 2.9048202887620076, 2.3188645774775214]"
      ]
     },
     "execution_count": 31,
     "metadata": {},
     "output_type": "execute_result"
    }
   ],
   "source": [
    "all_scores "
   ]
  },
  {
   "cell_type": "code",
   "execution_count": 33,
   "metadata": {},
   "outputs": [
    {
     "data": {
      "text/plain": [
       "2.4322467011095275"
      ]
     },
     "execution_count": 33,
     "metadata": {},
     "output_type": "execute_result"
    }
   ],
   "source": [
    "np.mean(all_scores) #tahminda ort 2400 dolar lık hata var"
   ]
  },
  {
   "cell_type": "code",
   "execution_count": null,
   "metadata": {},
   "outputs": [],
   "source": []
  },
  {
   "cell_type": "code",
   "execution_count": null,
   "metadata": {},
   "outputs": [],
   "source": []
  },
  {
   "cell_type": "code",
   "execution_count": null,
   "metadata": {},
   "outputs": [],
   "source": []
  },
  {
   "cell_type": "code",
   "execution_count": null,
   "metadata": {},
   "outputs": [],
   "source": []
  },
  {
   "cell_type": "code",
   "execution_count": null,
   "metadata": {},
   "outputs": [],
   "source": []
  },
  {
   "cell_type": "code",
   "execution_count": null,
   "metadata": {},
   "outputs": [],
   "source": []
  },
  {
   "cell_type": "code",
   "execution_count": null,
   "metadata": {},
   "outputs": [],
   "source": []
  },
  {
   "cell_type": "code",
   "execution_count": null,
   "metadata": {},
   "outputs": [],
   "source": []
  },
  {
   "cell_type": "code",
   "execution_count": null,
   "metadata": {},
   "outputs": [],
   "source": []
  },
  {
   "cell_type": "code",
   "execution_count": null,
   "metadata": {},
   "outputs": [],
   "source": []
  }
 ],
 "metadata": {
  "kernelspec": {
   "display_name": "Python 3",
   "language": "python",
   "name": "python3"
  },
  "language_info": {
   "codemirror_mode": {
    "name": "ipython",
    "version": 3
   },
   "file_extension": ".py",
   "mimetype": "text/x-python",
   "name": "python",
   "nbconvert_exporter": "python",
   "pygments_lexer": "ipython3",
   "version": "3.5.5"
  }
 },
 "nbformat": 4,
 "nbformat_minor": 2
}
